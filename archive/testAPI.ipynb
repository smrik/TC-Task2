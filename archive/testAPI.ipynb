{
 "cells": [
  {
   "cell_type": "code",
   "execution_count": 34,
   "metadata": {},
   "outputs": [
    {
     "name": "stdout",
     "output_type": "stream",
     "text": [
      "Pos {'v': '1'}\n",
      "Pos {'v': '2'}\n",
      "Pos {'v': '3'}\n",
      "Pos {'v': '4'}\n",
      "Pos {'v': '5'}\n",
      "Pos {'v': '6'}\n",
      "Pos {'v': '7'}\n",
      "Pos {'v': '8'}\n",
      "Pos {'v': '9'}\n",
      "Pos {'v': '10'}\n",
      "Pos {'v': '11'}\n",
      "Pos {'v': '12'}\n",
      "Pos {'v': '13'}\n",
      "Pos {'v': '14'}\n",
      "Pos {'v': '15'}\n",
      "Pos {'v': '16'}\n",
      "Pos {'v': '17'}\n",
      "Pos {'v': '18'}\n",
      "Pos {'v': '19'}\n",
      "Pos {'v': '20'}\n",
      "Pos {'v': '21'}\n",
      "Pos {'v': '22'}\n",
      "Pos {'v': '23'}\n",
      "Pos {'v': '24'}\n"
     ]
    }
   ],
   "source": [
    "import pandas as pd\n",
    "\n",
    "import xml.etree.ElementTree as ET\n",
    "tree = ET.parse('c:\\Downloads\\HUPX_MC_CZC_20241112.xml')\n",
    "root = tree.getroot()\n",
    "\n",
    "for child in root[11][6][2:]:\n",
    "\tprint(child[0].tag, child[0].attrib)"
   ]
  },
  {
   "cell_type": "code",
   "execution_count": 49,
   "metadata": {},
   "outputs": [
    {
     "name": "stdout",
     "output_type": "stream",
     "text": [
      "TimeInterval {'v': '2024-11-11T23:00Z/2024-11-12T23:00Z'}\n",
      "Resolution {'v': 'PT60M'}\n",
      "Interval {}\n",
      "Interval {}\n",
      "Interval {}\n",
      "Interval {}\n",
      "Interval {}\n",
      "Interval {}\n",
      "Interval {}\n",
      "Interval {}\n",
      "Interval {}\n",
      "Interval {}\n",
      "Interval {}\n",
      "Interval {}\n",
      "Interval {}\n",
      "Interval {}\n",
      "Interval {}\n",
      "Interval {}\n",
      "Interval {}\n",
      "Interval {}\n",
      "Interval {}\n",
      "Interval {}\n",
      "Interval {}\n",
      "Interval {}\n",
      "Interval {}\n",
      "Interval {}\n"
     ]
    }
   ],
   "source": [
    "for child in root[-1][-1]:\n",
    "\tprint(child.tag, child.attrib)"
   ]
  },
  {
   "cell_type": "code",
   "execution_count": 47,
   "metadata": {},
   "outputs": [
    {
     "data": {
      "text/plain": [
       "'FlowBasedTimeSeries'"
      ]
     },
     "execution_count": 47,
     "metadata": {},
     "output_type": "execute_result"
    }
   ],
   "source": [
    "root[-1].tag"
   ]
  }
 ],
 "metadata": {
  "kernelspec": {
   "display_name": "Python 3",
   "language": "python",
   "name": "python3"
  },
  "language_info": {
   "codemirror_mode": {
    "name": "ipython",
    "version": 3
   },
   "file_extension": ".py",
   "mimetype": "text/x-python",
   "name": "python",
   "nbconvert_exporter": "python",
   "pygments_lexer": "ipython3",
   "version": "3.11.2"
  }
 },
 "nbformat": 4,
 "nbformat_minor": 2
}
